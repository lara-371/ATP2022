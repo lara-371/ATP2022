{
 "cells": [
  {
   "cell_type": "code",
   "execution_count": null,
   "metadata": {},
   "outputs": [],
   "source": [
    "import pandas as pd\n",
    "import matplotlib.pyplot as plt\n",
    "import csv\n",
    "tabela = []\n",
    "\n",
    "#Função para ler a info do modelo, previamente pensado em memória\n",
    "def lerInfo():\n",
    "    ficheiro = pd.read_csv('myheart.csv')\n",
    "    print(ficheiro)\n",
    "    menu()\n",
    "\n",
    "#Função para calcular a distribuição da doença por sexo\n",
    "def distribS():\n",
    "    lerInfo()\n",
    "    contM = 0\n",
    "    contF = 0\n",
    "    for t in tabela:\n",
    "        idade, sexo, tensão, colesterol, batimento, temDoenca = t\n",
    "        if temDoenca == 1 and sexo == \"M\":\n",
    "            contM = contM + 1\n",
    "            print(\"Contador Masculino: \", contM)\n",
    "        elif temDoenca == 1 and sexo == \"F\":\n",
    "            contF = contF + 1\n",
    "            print(\"Contador Feminino: \", contF)\n",
    "\n",
    "#Função para calcular a distrib de doença por escalões etários\n",
    "def distribI():\n",
    "    lerInfo()\n",
    "    escalao = [[30, 34], [35, 39], [40, 44], [45, 49], [50, 54], [55, 59], [60,64], [65, 69], [70,74], [75, 79]]\n",
    "    lista = []\n",
    "    for t in tabela:\n",
    "       idade, sexo, tensão, colesterol, batimento, temDoenca = t\n",
    "       for e in escalao:\n",
    "        if temDoenca == 1 and idade >= e[0] and idade <= e[1]:\n",
    "            lista.append(e)\n",
    "    for e in escalao:\n",
    "        print(\"Escalão \", e, \"tem: \", lista.count(e), \" pessoas.\")\n",
    "\n",
    "\n",
    "#Função para calcular a distrib por niveis de colesterol;\n",
    "def distribC():\n",
    "    lerInfo()\n",
    "    nivelC = [[100, 110], [110, 120], [120, 130], [130, 140], [140, 150], [150, 160], [160, 170], [170, 180], [180, 190], [190, 200], [200, 210], [210, 220], [220, 230], [230, 240], [240, 250], [250, 260], [260, 270], [270, 280], [280, 290], [290, 300], [300, 310], [310, 320], [320, 330], [330, 340], [340, 350], [350, 360], [360, 370], [370, 380], [380, 390]]    \n",
    "    lista = []\n",
    "    for t in tabela:\n",
    "       idade, sexo, tensão, colesterol, batimento, temDoenca = t\n",
    "       for c in nivelC:\n",
    "        if temDoenca == 1 and colesterol >= c[0] and colesterol <= c[1]:\n",
    "            lista.append(c)\n",
    "    for c in nivelC:\n",
    "        print(\"Nível de Colesterol \", c, \"tem: \", lista.count(c), \" pessoas.\")\n",
    "\n",
    "#Função que imprime na forma de uma tabela uma distribuição;\n",
    "    \n",
    "\n",
    "#Programa que apresenta as tabelas correspondentes as distribuições pedidas\n",
    "def menu():\n",
    "    print(\"Menu:\\n(1)Distribuição por Sexo;\\n(2)Distribuição por Escalão Etário;\\n(3)Distribuição por Nível de Colesterol\\n(0)Ler Informação\")\n",
    "    N = int(input(\"Seleciona um número de 0 a 3: \"))\n",
    "    if N == 1:\n",
    "        print(distribS())\n",
    "    elif N == 2:\n",
    "        print(distribI())\n",
    "    elif N == 3:\n",
    "        print(distribC())\n",
    "    elif N == 0:\n",
    "        print(lerInfo())\n",
    "menu()"
   ]
  },
  {
   "cell_type": "code",
   "execution_count": null,
   "metadata": {},
   "outputs": [],
   "source": [
    "import pandas as pd\n",
    "import csv\n",
    "tabela = pd.read_csv('myheart.csv')\n",
    "print(tabela)"
   ]
  },
  {
   "cell_type": "code",
   "execution_count": null,
   "metadata": {},
   "outputs": [],
   "source": [
    "csvfile = open('myheart.csv','r')\n",
    "info = csv.reader(csvfile, delimiter=';')"
   ]
  }
 ],
 "metadata": {
  "kernelspec": {
   "display_name": "Python 3.10.8 64-bit (microsoft store)",
   "language": "python",
   "name": "python3"
  },
  "language_info": {
   "codemirror_mode": {
    "name": "ipython",
    "version": 3
   },
   "file_extension": ".py",
   "mimetype": "text/x-python",
   "name": "python",
   "nbconvert_exporter": "python",
   "pygments_lexer": "ipython3",
   "version": "3.10.8"
  },
  "orig_nbformat": 4,
  "vscode": {
   "interpreter": {
    "hash": "d5ef5d365f247ecb47d1a6d3d990e13ff109aeceb1f9777ee7d718b88bc5a50a"
   }
  }
 },
 "nbformat": 4,
 "nbformat_minor": 2
}
