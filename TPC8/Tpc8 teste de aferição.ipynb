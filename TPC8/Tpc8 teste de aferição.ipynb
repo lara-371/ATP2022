{
 "cells": [
  {
   "cell_type": "markdown",
   "id": "1e545158",
   "metadata": {},
   "source": [
    "# Aula Prática 8 (guião)\n",
    "### Semana de 7 de Novembro a 11 de Novembro de 2022\n",
    "### José Carlos Ramalho e Luís Cunha\n",
    "### Sinopsis:\n",
    "Consolidação e aferição de tudo o que foi feito até ao momento. "
   ]
  },
  {
   "cell_type": "markdown",
   "id": "9b9b5140-2b81-435e-9fc0-324437a7b453",
   "metadata": {},
   "source": [
    "### Assunto: Frações\n",
    "Vamos pensar num modelo: o que é uma fração estruturalmente?"
   ]
  },
  {
   "cell_type": "code",
   "execution_count": 1,
   "id": "5a6da5eb",
   "metadata": {},
   "outputs": [],
   "source": [
    "# Modelo duma fração\n",
    "#fracao =(numerador, denominador)\n",
    "\n",
    "# Modelo duma lista de frações\n",
    "#listaFrac = [fracao]"
   ]
  },
  {
   "cell_type": "code",
   "execution_count": null,
   "id": "c6d52a23",
   "metadata": {},
   "outputs": [],
   "source": [
    "# criar fração em que o numerador é 1 e o denominador de 2-20 \n",
    "## [(1,2), (1,3),..., (1,20)]\n",
    "### aparecer as frações todas no ecrã"
   ]
  },
  {
   "cell_type": "markdown",
   "id": "d477052b-e074-4a5d-ac12-85c2286a1e5f",
   "metadata": {},
   "source": [
    "### Construtor"
   ]
  },
  {
   "cell_type": "code",
   "execution_count": null,
   "id": "33d1c7e9-22af-4473-9b21-3e7ce0fcf571",
   "metadata": {},
   "outputs": [],
   "source": [
    "def criarFracao(numerador, denominador):\n",
    "    return (numerador, denominador) #tuplo(numerador, denominador)\n",
    "\n",
    "def verFracao(f):\n",
    "    #num/denom\n",
    "    print(str(f[0]) + \"/\" + str(f[1]), \" \", end=\"\")\n",
    "    return"
   ]
  },
  {
   "cell_type": "code",
   "execution_count": null,
   "id": "d46df3ff",
   "metadata": {},
   "outputs": [],
   "source": [
    "f1 = criarFracao(2,3)\n",
    "verFracao(f1)"
   ]
  },
  {
   "cell_type": "code",
   "execution_count": null,
   "id": "8bc91abf",
   "metadata": {},
   "outputs": [],
   "source": [
    "listaF1 = []\n",
    "num = 1\n",
    "for denom in range(2, 21):\n",
    "    listaF1.append((num, denom))\n",
    "for f in listaF1:\n",
    "    verFracao(f)"
   ]
  },
  {
   "cell_type": "code",
   "execution_count": null,
   "id": "85e601cc",
   "metadata": {},
   "outputs": [],
   "source": [
    "listaF1 = [(1, denom) for denom in range(2, 21)]\n",
    "for f in listaF1:\n",
    "    verFracao(f)"
   ]
  },
  {
   "cell_type": "code",
   "execution_count": null,
   "id": "c5f9f9ae",
   "metadata": {},
   "outputs": [],
   "source": [
    "##Resposta\n",
    "def verlistafrac(lista):\n",
    "    for f in lista:\n",
    "        verFracao(f)\n",
    "\n",
    "listaF1 = [(1, denom) for denom in range(2, 21)]\n",
    "verlistafrac(listaF1)"
   ]
  },
  {
   "cell_type": "markdown",
   "id": "f7cd0ff1",
   "metadata": {},
   "source": [
    "### Simplificação de frações"
   ]
  },
  {
   "cell_type": "code",
   "execution_count": null,
   "id": "8b0fa08f",
   "metadata": {},
   "outputs": [],
   "source": [
    "#método da diferença entre o numerador e denominador (16     12 ||| 12   4) 4 é o mdc\n",
    "def mdc(a, b):\n",
    "    if a>b:\n",
    "        if a%b == 0:\n",
    "            return b\n",
    "        else:\n",
    "            return mdc(b, a-b)\n",
    "    else:\n",
    "        return mdc(b, a)\n",
    "\n",
    "def simplificarFracao(f):\n",
    "    \n",
    "    return (f[0]/mdc(f[0],f[1]), f[1]/mdc(f[0],f[1]))"
   ]
  },
  {
   "cell_type": "code",
   "execution_count": null,
   "id": "0d456be1",
   "metadata": {},
   "outputs": [],
   "source": [
    "print(mdc(24, 16))\n",
    "print(simplificarFracao((24, 16)))\n",
    "\n",
    "f = (54, 81)\n",
    "print(mdc(54, 81))\n",
    "print(simplificarFracao(f))"
   ]
  },
  {
   "cell_type": "code",
   "execution_count": null,
   "id": "8821d031",
   "metadata": {},
   "outputs": [],
   "source": [
    "verFracao(simplificarFracao(criarFracao(21, 140)))"
   ]
  },
  {
   "cell_type": "markdown",
   "id": "d52f012f",
   "metadata": {},
   "source": [
    "## Operações sobre frações"
   ]
  },
  {
   "cell_type": "code",
   "execution_count": null,
   "id": "96ba280b",
   "metadata": {},
   "outputs": [],
   "source": [
    "def somarFrac(f1, f2):\n",
    "\n",
    "    return ((f1[0]*f2[1] + f1[1]*f2[0], f1[1]*f2[1]))\n",
    "\n",
    "f1 = criarFracao(2,3)\n",
    "f2 = criarFracao(5,7)\n",
    "verFracao(simplificarFracao(somarFrac(f1,f2)))"
   ]
  },
  {
   "cell_type": "code",
   "execution_count": null,
   "id": "a0198bce",
   "metadata": {},
   "outputs": [],
   "source": [
    "listaFrac = [f1, f2, criarFracao(125,1000), (8,12)]\n",
    "listaFrac2 = []\n",
    "import random\n",
    "for i in range(1,20):\n",
    "    n = random.randrange(1, 10)\n",
    "    d = random.randrange(2, 20)\n",
    "    listaFrac2.append(criarFracao(n,d))\n",
    "print(listaFrac2) #verlistafrac((n,d))"
   ]
  },
  {
   "cell_type": "markdown",
   "id": "e83e4eae",
   "metadata": {},
   "source": [
    "### Soma uma lista de frações"
   ]
  },
  {
   "cell_type": "code",
   "execution_count": null,
   "id": "402d83f0",
   "metadata": {},
   "outputs": [],
   "source": [
    "def somarListaFrac(lista):\n",
    "    res = lista[0]\n",
    "    for f in lista[1:]:\n",
    "        res = somarFrac(res, f)\n",
    "    return res"
   ]
  },
  {
   "cell_type": "code",
   "execution_count": null,
   "id": "b78572ea",
   "metadata": {},
   "outputs": [],
   "source": [
    "verFracao(simplificarFracao(somarListaFrac(listaFrac2)))"
   ]
  },
  {
   "cell_type": "code",
   "execution_count": null,
   "id": "c919dce3",
   "metadata": {},
   "outputs": [],
   "source": [
    "verFracao(somarListaFrac([(1, den) for den in range(10, 1001, 20)]))"
   ]
  },
  {
   "cell_type": "markdown",
   "id": "a88929cc",
   "metadata": {},
   "source": [
    "### Multiplica 2 frações"
   ]
  },
  {
   "cell_type": "code",
   "execution_count": null,
   "id": "519c5358",
   "metadata": {},
   "outputs": [],
   "source": [
    "def multFrac(f1, f2):\n",
    "    return simplificarFracao((f1[0]*f2[0], f1[1]*f2[1]))"
   ]
  },
  {
   "cell_type": "code",
   "execution_count": null,
   "id": "a058dca8",
   "metadata": {},
   "outputs": [],
   "source": [
    "verFracao(multFrac((2, 3), (7,8)))"
   ]
  },
  {
   "cell_type": "markdown",
   "id": "fcd5b5d6",
   "metadata": {},
   "source": [
    "### Guardar uma lista de frações num ficheiro"
   ]
  },
  {
   "cell_type": "code",
   "execution_count": null,
   "id": "2840f9b2",
   "metadata": {},
   "outputs": [],
   "source": [
    "def gravaListaFrac(fnome, listaF):\n",
    "    f = open(fnome, \"w\")\n",
    "    for fracao in listaF:\n",
    "        f.write(str(fracao[0]) + '/' + str(fracao[1]) + '\\n')\n",
    "    f.close()\n",
    "    return"
   ]
  },
  {
   "cell_type": "code",
   "execution_count": null,
   "id": "ec7e4877",
   "metadata": {},
   "outputs": [],
   "source": [
    "gravaListaFrac(\"fracoes.txt\", listaFrac2)"
   ]
  },
  {
   "cell_type": "markdown",
   "id": "0664fcdc",
   "metadata": {},
   "source": [
    "### Recuperar uma lista de frações dum ficheiro"
   ]
  },
  {
   "cell_type": "code",
   "execution_count": null,
   "id": "82aece6e",
   "metadata": {},
   "outputs": [],
   "source": [
    "def carregaListaFrac(fnome):\n",
    "    f =open(fnome)\n",
    "    listaRes = []\n",
    "    for linha in f:\n",
    "        partes = linha[:-1].spli(\"/\")\n",
    "        listaRes.append((int(partes[0]), int(partes[1])))\n",
    "    return listaRes"
   ]
  },
  {
   "cell_type": "code",
   "execution_count": null,
   "id": "b00b80a8",
   "metadata": {},
   "outputs": [],
   "source": [
    "listaFrac3 = carregaListaFrac(\"fracoes.txt\")\n",
    "verlistafrac(listaFrac3)"
   ]
  },
  {
   "cell_type": "markdown",
   "id": "4193a91b",
   "metadata": {},
   "source": [
    "### TPC8: Teste de aferição\n",
    "\n",
    "Resolva os problemas apresentados a seguir."
   ]
  },
  {
   "cell_type": "markdown",
   "id": "4e758271",
   "metadata": {},
   "source": [
    "### tpc1.a) Recebe duas strings, _s1_ e _s2_, e retorna o comprimento da substring inicial de _s1_ que não contem nenhum caráter de _s2_:"
   ]
  },
  {
   "cell_type": "code",
   "execution_count": 9,
   "id": "4ae7f5d0",
   "metadata": {},
   "outputs": [
    {
     "data": {
      "text/plain": [
       "4"
      ]
     },
     "execution_count": 9,
     "metadata": {},
     "output_type": "execute_result"
    }
   ],
   "source": [
    "def inicDiferente(s1, s2):\n",
    "    res = 0\n",
    "    for l in s1:\n",
    "        if l in s2:\n",
    "            break\n",
    "        res = res + 1\n",
    "    return res\n",
    "\n",
    "inicDiferente(\"Está um bom dia...\", \"Hoje é um dia alegre.\")\n",
    "# resultado esperado: 4"
   ]
  },
  {
   "cell_type": "markdown",
   "id": "28cb3dc4",
   "metadata": {},
   "source": [
    "### tpc1.b) Recebe um parâmetro _n_ e lê _n_ números inteiros; no fim retorna quantos dos números lidos são superiores à média dos números lidos:"
   ]
  },
  {
   "cell_type": "code",
   "execution_count": 16,
   "id": "4458c7bc",
   "metadata": {},
   "outputs": [
    {
     "data": {
      "text/plain": [
       "4"
      ]
     },
     "execution_count": 16,
     "metadata": {},
     "output_type": "execute_result"
    }
   ],
   "source": [
    "def acimaMedia(n):\n",
    "    res = 0\n",
    "    soma = 0\n",
    "    for i in range(n):\n",
    "        soma = soma + n\n",
    "        med = soma/n\n",
    "        if n > med:\n",
    "            res = res + 1\n",
    "    \n",
    "    return res\n",
    "\n",
    "acimaMedia(5)"
   ]
  },
  {
   "cell_type": "markdown",
   "id": "e6db31d7",
   "metadata": {},
   "source": [
    "### tpc1.c) Faz o merge de duas listas ordenadas, retornando uma lista ordenada com os elementos das duas listas (__não podes usar nenhuma função de ordenação do Python__):"
   ]
  },
  {
   "cell_type": "code",
   "execution_count": 20,
   "id": "2b5ad344",
   "metadata": {},
   "outputs": [
    {
     "data": {
      "text/plain": [
       "[1, 2, 3, 4, 6, 7, 9, 12]"
      ]
     },
     "execution_count": 20,
     "metadata": {},
     "output_type": "execute_result"
    }
   ],
   "source": [
    "def merge(l1, l2):\n",
    "        res=[]\n",
    "        while len(l1)>0 and len(l2)>0 :\n",
    "                if l1[0] < l2[0]:\n",
    "                        res.append(l1[0])\n",
    "                        l1 = l1[1:]\n",
    "                else:\n",
    "                        res.append(l2[0])\n",
    "                        l2 = l2[1:]\n",
    "        res = res + l1 + l2\n",
    "        return res\n",
    "    \n",
    "merge([1,2,6,9], [3,4,7,12])\n",
    "# Resultado esperado: [1,2,3,4,6,7,9,12]"
   ]
  },
  {
   "cell_type": "markdown",
   "id": "6698b337",
   "metadata": {},
   "source": [
    "### tpc1.d) Recebe o nome de dois ficheiros de texto, _f1_ e _f2_, e indica se são iguais (__True__) no seu conteúdo ou se são diferentes (__False__):"
   ]
  },
  {
   "cell_type": "code",
   "execution_count": 21,
   "id": "54cef309",
   "metadata": {},
   "outputs": [],
   "source": [
    "def figuais(f1, f2):\n",
    "    f1=open(f1, 'r')\n",
    "    f2=open(f2, 'r')\n",
    "    res = False\n",
    "    for l1 in f1:\n",
    "        for l2 in f2:\n",
    "            if l1 == l2:\n",
    "                res = True\n",
    "    return res\n",
    "\n",
    "#print(figuais(\"texto1.txt\", \"texto1.txt\"))\n",
    "#print(figuais(\"texto1.txt\", \"texto2.txt\"))"
   ]
  },
  {
   "cell_type": "markdown",
   "id": "7cd572fc",
   "metadata": {},
   "source": [
    "## Questão 2: Gestão de uma Cinemateca\n",
    "\n",
    "Analise as seguintes estruturas de dados que materializam o modelo de uma cinemateca:"
   ]
  },
  {
   "cell_type": "code",
   "execution_count": 32,
   "id": "76e9e621",
   "metadata": {},
   "outputs": [
    {
     "name": "stdout",
     "output_type": "stream",
     "text": [
      "[('Meet the Parents', 2000, ['Ben Stiller', 'Robert De Niro', 'Blythe Danner', 'Teri Polo', 'Owen Wilson'], ['Comedy', 'Drama']), ('Men of Honor', 2000, ['Robert De Niro', 'Cuba Gooding, Jr.', 'Charlize Theron'], ['Biography', 'Drama', 'Thriller']), ('Analyze That', 2002, ['Robert De Niro', 'Billy Crystal', 'Lisa Kudrow'], ['Comedy'])]\n"
     ]
    }
   ],
   "source": [
    "# Cinemateca = [Filme]\n",
    "# Pub = (Título, Ano, Elenco, Géneros)\n",
    "# Título = String\n",
    "# Ano = Int\n",
    "# Elenco = [Ator]\n",
    "# Ator = String\n",
    "# Géneros = [Género]\n",
    "# Género = String\n",
    "Filme1 = (\"Meet the Parents\", 2000, [\"Ben Stiller\",\"Robert De Niro\",\n",
    "      \"Blythe Danner\",\"Teri Polo\",\"Owen Wilson\"], [\"Comedy\", \"Drama\"])\n",
    "Filme2 = (\"Men of Honor\", 2000, [\"Robert De Niro\",\"Cuba Gooding, Jr.\",\n",
    "      \"Charlize Theron\"], [\"Biography\", \"Drama\", \"Thriller\"])\n",
    "Filme3 = (\"Analyze That\", 2002, [\"Robert De Niro\",\"Billy Crystal\",\n",
    "      \"Lisa Kudrow\"], [\"Comedy\"])\n",
    "CineUM = [Filme1, Filme2, Filme3]\n",
    "print(CineUM)"
   ]
  },
  {
   "cell_type": "markdown",
   "id": "89afc758",
   "metadata": {},
   "source": [
    " e especifique funções que calculem o que se descreve a seguir:"
   ]
  },
  {
   "cell_type": "markdown",
   "id": "2156a0c8",
   "metadata": {},
   "source": [
    "### tpc2.a)  Devolve uma lista dos atores participantes nos filmes armazenados, ordenada alfabeticamente e sem repetições:"
   ]
  },
  {
   "cell_type": "code",
   "execution_count": 25,
   "id": "8a5a2a41",
   "metadata": {},
   "outputs": [
    {
     "name": "stdout",
     "output_type": "stream",
     "text": [
      "['Ben Stiller', 'Billy Crystal', 'Blythe Danner', 'Charlize Theron', 'Cuba Gooding, Jr.', 'Lisa Kudrow', 'Owen Wilson', 'Robert De Niro', 'Teri Polo']\n"
     ]
    }
   ],
   "source": [
    "def atores(cinemateca):\n",
    "    res = []\n",
    "    for filme in cinemateca:\n",
    "        for ator in filme[2]:\n",
    "            if ator not in res:\n",
    "                res.append(ator)\n",
    "    res.sort()    \n",
    "    return res\n",
    "\n",
    "print(atores(CineUM))\n",
    "# Resultado esperado: ['Ben Stiller', 'Billy Crystal', 'Blythe Danner', 'Charlize Theron', 'Cuba Gooding, Jr.', 'Lisa Kudrow', 'Owen Wilson', 'Robert De Niro', 'Teri Polo']"
   ]
  },
  {
   "cell_type": "markdown",
   "id": "12f9126b",
   "metadata": {},
   "source": [
    "### tpc2.b)  Devolve uma lista de todos os títulos dos filmes, em ordem alfabética, e de um determinado género passado como argumento:"
   ]
  },
  {
   "cell_type": "code",
   "execution_count": 28,
   "id": "d9dfe30a",
   "metadata": {},
   "outputs": [
    {
     "name": "stdout",
     "output_type": "stream",
     "text": [
      "['Analyze That', 'Meet the Parents']\n"
     ]
    }
   ],
   "source": [
    "def listarPorGenero(cinemateca, genero):\n",
    "    res=[]\n",
    "    for filme in cinemateca:\n",
    "        if genero in filme[3]:\n",
    "            res.append(filme[0])\n",
    "    res.sort()\n",
    "    return res\n",
    "\n",
    "print(listarPorGenero(CineUM, \"Comedy\"))\n",
    "# Resultado esperado: ['Analyze That', 'Meet the Parents']"
   ]
  },
  {
   "cell_type": "markdown",
   "id": "1a0f760b",
   "metadata": {},
   "source": [
    "### tpc2.c)  Devolve o título do filme com o maior elenco:"
   ]
  },
  {
   "cell_type": "code",
   "execution_count": 29,
   "id": "a00c85e3",
   "metadata": {},
   "outputs": [
    {
     "name": "stdout",
     "output_type": "stream",
     "text": [
      "Meet the Parents\n"
     ]
    }
   ],
   "source": [
    "def maiorElenco( cinemateca ):\n",
    "    maior = 0\n",
    "    titulo = \"\"\n",
    "    for filme in cinemateca:\n",
    "        if len(filme[2]) > maior:\n",
    "            maior = len(filme[2])\n",
    "            titulo = filme[0]\n",
    "    return titulo\n",
    "\n",
    "print(maiorElenco(CineUM))\n",
    "# Resultado esperado: Meet the Parents"
   ]
  },
  {
   "cell_type": "markdown",
   "id": "65061d0a",
   "metadata": {},
   "source": [
    "### tpc2.d)  Calcula a distribuição de filmes por Género:"
   ]
  },
  {
   "cell_type": "code",
   "execution_count": 30,
   "id": "dc1adabc",
   "metadata": {},
   "outputs": [],
   "source": [
    "def filmePorGenero( cinemateca ):\n",
    "    res = {}\n",
    "    for filme in cinemateca:\n",
    "        for genero in filme[3]:\n",
    "            if genero in res:\n",
    "                res[genero] = res[genero] + 1\n",
    "            else:\n",
    "                res[genero] = 1\n",
    "\n",
    "    return res"
   ]
  },
  {
   "cell_type": "code",
   "execution_count": 34,
   "id": "f2152d99",
   "metadata": {},
   "outputs": [
    {
     "name": "stdout",
     "output_type": "stream",
     "text": [
      "{'Comedy': 2, 'Drama': 2, 'Biography': 1, 'Thriller': 1}\n"
     ]
    }
   ],
   "source": [
    "print(filmePorGenero(CineUM))"
   ]
  },
  {
   "cell_type": "markdown",
   "id": "de46a635",
   "metadata": {},
   "source": [
    "### tpc2.e)  Represente num gráfico de barras a distribuição calculada na alínea anterior (pode usar o material que entender das aulas):"
   ]
  },
  {
   "cell_type": "code",
   "execution_count": 54,
   "id": "4118730d",
   "metadata": {},
   "outputs": [
    {
     "data": {
      "image/png": "[encoded data removed]",
      "text/plain": [
       "<Figure size 640x480 with 1 Axes>"
      ]
     },
     "metadata": {},
     "output_type": "display_data"
    }
   ],
   "source": [
    "import matplotlib.pyplot as plt\n",
    "\n",
    "def graf(distrib):\n",
    "        plt.bar(range(len(distrib)), distrib.values(), width = 0.5, color = ['purple'])\n",
    "        plt.xticks(range(len(distrib)), list(distrib.keys()))\n",
    "        plt.ylabel('Nº de Filmes')\n",
    "        plt.xlabel('Género')\n",
    "        plt.title(\"Filmes por Género\")\n",
    "        plt.show()\n",
    "\n",
    "graf(filmePorGenero(CineUM))"
   ]
  }
 ],
 "metadata": {
  "kernelspec": {
   "display_name": "Python 3.10.8 64-bit (microsoft store)",
   "language": "python",
   "name": "python3"
  },
  "language_info": {
   "codemirror_mode": {
    "name": "ipython",
    "version": 3
   },
   "file_extension": ".py",
   "mimetype": "text/x-python",
   "name": "python",
   "nbconvert_exporter": "python",
   "pygments_lexer": "ipython3",
   "version": "3.10.8"
  },
  "vscode": {
   "interpreter": {
    "hash": "d5ef5d365f247ecb47d1a6d3d990e13ff109aeceb1f9777ee7d718b88bc5a50a"
   }
  }
 },
 "nbformat": 4,
 "nbformat_minor": 5
}
